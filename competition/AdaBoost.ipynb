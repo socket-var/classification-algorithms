{
 "cells": [
  {
   "cell_type": "code",
   "execution_count": 1,
   "metadata": {},
   "outputs": [],
   "source": [
    "import numpy as np\n",
    "import pandas as pd\n",
    "import competition_helpers\n",
    "from sklearn import tree\n",
    "from sklearn.ensemble import AdaBoostClassifier\n",
    "from sklearn.metrics import accuracy_score, precision_score, recall_score, f1_score"
   ]
  },
  {
   "cell_type": "code",
   "execution_count": 2,
   "metadata": {},
   "outputs": [
    {
     "name": "stdout",
     "output_type": "stream",
     "text": [
      "(418, 100) (418, 1) (378, 100)\n"
     ]
    }
   ],
   "source": [
    "# I/O configuration here\n",
    "X_train = competition_helpers.read_csv(\"train_features.csv\")\n",
    "y_train = competition_helpers.read_csv(\"train_label.csv\", remove_header=True)\n",
    "X_test = competition_helpers.read_csv(\"test_features.csv\")\n",
    "submission_col = np.array(pd.read_csv(\"test_features.csv\", header=None).iloc[: , 0]).ravel()\n",
    "submission_file_name = \"results/adaboost_default_submission.csv\"\n",
    "\n",
    "print(X_train.shape, y_train.shape, X_test.shape)"
   ]
  },
  {
   "cell_type": "code",
   "execution_count": 3,
   "metadata": {},
   "outputs": [],
   "source": [
    "# 5 fold cross validation\n",
    "train_test_split = competition_helpers.kfold_stratified_split(X_train, y_train, 5,False)\n",
    "# With standardization\n",
    "# standardized_train_test_split = competition_helpers.kfold_stratified_split(X_train, y_train, 5,True)"
   ]
  },
  {
   "cell_type": "code",
   "execution_count": 4,
   "metadata": {
    "scrolled": false
   },
   "outputs": [],
   "source": [
    "# 5 fold train test split results\n",
    "# results = []\n",
    "# for [(X_train_cv, y_train_cv), (X_test_cv, y_test_cv)] in train_test_split:\n",
    "    \n",
    "#     clf = RandomForestClassifier(n_estimators=100, random_state=42)\n",
    "#     clf.fit(X_train_cv, y_train_cv.ravel())  \n",
    "#     prediction = clf.predict(X_test_cv)\n",
    "    \n",
    "#     accuracy = accuracy_score(y_test_cv.ravel(), prediction.ravel())\n",
    "#     precision = precision_score(y_test_cv.ravel(), prediction.ravel())\n",
    "#     recall = recall_score(y_test_cv.ravel(), prediction.ravel())\n",
    "#     f1 = f1_score(y_test_cv.ravel(), prediction.ravel())\n",
    "    \n",
    "#     results.append([accuracy, precision, recall, f1])\n",
    "    \n",
    "\n",
    "# measures = np.sum(np.array(results), axis=0) / len(results) \n",
    "# print(measures)\n",
    "\n",
    "# With standardization\n",
    "\n",
    "# results = []\n",
    "\n",
    "# # for estimators_ in [100, 150]:\n",
    "# for max_depth in [None, 20, 40]:\n",
    "#     for split_ in [2, 5, 15]:\n",
    "#         for leaf_ in [1, 30, 60, 90, 120]:\n",
    "# #                 for num_features in [None, 90]:\n",
    "#             for [(X_train_cv, y_train_cv), (X_test_cv, y_test_cv)] in train_test_split:\n",
    "\n",
    "#                 clf = RandomForestClassifier(n_estimators=100, random_state=42,\n",
    "#                                             max_depth=max_depth, \\\n",
    "#                                             max_features=None, \\\n",
    "#                                             min_samples_split=split_\n",
    "#     #                                                  min_samples_leaf=leaf_\n",
    "\n",
    "#                                             )\n",
    "#                 clf.fit(X_train_cv, y_train_cv.ravel())  \n",
    "#                 prediction = clf.predict(X_test_cv)\n",
    "\n",
    "#                 accuracy = accuracy_score(y_test_cv.ravel(), prediction.ravel())\n",
    "#                 precision = precision_score(y_test_cv.ravel(), prediction.ravel())\n",
    "#                 recall = recall_score(y_test_cv.ravel(), prediction.ravel())\n",
    "#                 f1 = f1_score(y_test_cv.ravel(), prediction.ravel())\n",
    "\n",
    "#                 results.append([accuracy, precision, recall, f1])\n",
    "\n",
    "\n",
    "#             measures = np.sum(np.array(results), axis=0) / len(results) \n",
    "#             print(\"n_estimators: {} Max depth: {} split: {} leaf: {} measures: {}\".format(100, max_depth, split_, leaf_, measures))"
   ]
  },
  {
   "cell_type": "code",
   "execution_count": 5,
   "metadata": {},
   "outputs": [],
   "source": [
    "results = []\n",
    "for [(X_train_cv, y_train_cv), (X_test_cv, y_test_cv)] in train_test_split:\n",
    "\n",
    "    clf = AdaBoostClassifier(random_state=42)\n",
    "    clf.fit(X_train_cv, y_train_cv.ravel())  \n",
    "    prediction = clf.predict(X_test_cv)\n",
    "\n",
    "    accuracy = accuracy_score(y_test_cv.ravel(), prediction.ravel())\n",
    "    precision = precision_score(y_test_cv.ravel(), prediction.ravel())\n",
    "    recall = recall_score(y_test_cv.ravel(), prediction.ravel())\n",
    "    f1 = f1_score(y_test_cv.ravel(), prediction.ravel())\n",
    "\n",
    "    results.append([accuracy, precision, recall, f1])\n",
    "\n",
    "\n",
    "measures = np.sum(np.array(results), axis=0) / len(results) "
   ]
  },
  {
   "cell_type": "code",
   "execution_count": 6,
   "metadata": {},
   "outputs": [
    {
     "name": "stdout",
     "output_type": "stream",
     "text": [
      "[0.79425129 0.8384605  0.89708141 0.86626477]\n"
     ]
    }
   ],
   "source": [
    "print(measures)"
   ]
  },
  {
   "cell_type": "code",
   "execution_count": 7,
   "metadata": {},
   "outputs": [],
   "source": [
    "# fitting the test dataset\n",
    "clf = AdaBoostClassifier(random_state=42)\n",
    "clf.fit(X_train, y_train.ravel())  \n",
    "prediction = clf.predict(X_test)"
   ]
  },
  {
   "cell_type": "code",
   "execution_count": 8,
   "metadata": {},
   "outputs": [],
   "source": [
    "pd.DataFrame({\"id\": submission_col, \"label\": prediction}).to_csv(submission_file_name, encoding='utf-8', index=False)"
   ]
  },
  {
   "cell_type": "code",
   "execution_count": null,
   "metadata": {},
   "outputs": [],
   "source": []
  },
  {
   "cell_type": "code",
   "execution_count": null,
   "metadata": {},
   "outputs": [],
   "source": []
  }
 ],
 "metadata": {
  "kernelspec": {
   "display_name": "Python 3",
   "language": "python",
   "name": "python3"
  },
  "language_info": {
   "codemirror_mode": {
    "name": "ipython",
    "version": 3
   },
   "file_extension": ".py",
   "mimetype": "text/x-python",
   "name": "python",
   "nbconvert_exporter": "python",
   "pygments_lexer": "ipython3",
   "version": "3.7.3"
  }
 },
 "nbformat": 4,
 "nbformat_minor": 2
}
