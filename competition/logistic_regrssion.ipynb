{
 "cells": [
  {
   "cell_type": "code",
   "execution_count": 38,
   "metadata": {},
   "outputs": [],
   "source": [
    "import numpy as np\n",
    "import pandas as pd\n",
    "import competition_helpers\n",
    "from sklearn.linear_model import LogisticRegression\n",
    "from sklearn.metrics import accuracy_score, precision_score, recall_score, f1_score"
   ]
  },
  {
   "cell_type": "code",
   "execution_count": 39,
   "metadata": {},
   "outputs": [
    {
     "name": "stdout",
     "output_type": "stream",
     "text": [
      "(418, 100) (418, 1) (378, 100)\n"
     ]
    }
   ],
   "source": [
    "# I/O configuration here\n",
    "X_train = competition_helpers.read_csv(\"train_features.csv\")\n",
    "y_train = competition_helpers.read_csv(\"train_label.csv\", remove_header=True)\n",
    "X_test = competition_helpers.read_csv(\"test_features.csv\")\n",
    "submission_col = np.array(pd.read_csv(\"test_features.csv\", header=None).iloc[: , 0]).ravel()\n",
    "submission_file_name = \"results/logisticregression_standardized_submission.csv\"\n",
    "\n",
    "print(X_train.shape, y_train.shape, X_test.shape)"
   ]
  },
  {
   "cell_type": "code",
   "execution_count": 25,
   "metadata": {},
   "outputs": [],
   "source": [
    "# 5 fold cross validation\n",
    "train_test_split = competition_helpers.kfold_stratified_split(X_train, y_train, 5,False)\n",
    "# With standardization\n",
    "standardized_train_test_split = competition_helpers.kfold_stratified_split(X_train, y_train, 5,True)"
   ]
  },
  {
   "cell_type": "code",
   "execution_count": 26,
   "metadata": {},
   "outputs": [
    {
     "name": "stderr",
     "output_type": "stream",
     "text": [
      "/Library/Frameworks/Python.framework/Versions/3.5/lib/python3.5/site-packages/sklearn/linear_model/sag.py:334: ConvergenceWarning: The max_iter was reached which means the coef_ did not converge\n",
      "  \"the coef_ did not converge\", ConvergenceWarning)\n",
      "/Library/Frameworks/Python.framework/Versions/3.5/lib/python3.5/site-packages/sklearn/linear_model/sag.py:334: ConvergenceWarning: The max_iter was reached which means the coef_ did not converge\n",
      "  \"the coef_ did not converge\", ConvergenceWarning)\n",
      "/Library/Frameworks/Python.framework/Versions/3.5/lib/python3.5/site-packages/sklearn/linear_model/sag.py:334: ConvergenceWarning: The max_iter was reached which means the coef_ did not converge\n",
      "  \"the coef_ did not converge\", ConvergenceWarning)\n",
      "/Library/Frameworks/Python.framework/Versions/3.5/lib/python3.5/site-packages/sklearn/linear_model/sag.py:334: ConvergenceWarning: The max_iter was reached which means the coef_ did not converge\n",
      "  \"the coef_ did not converge\", ConvergenceWarning)\n",
      "/Library/Frameworks/Python.framework/Versions/3.5/lib/python3.5/site-packages/sklearn/linear_model/sag.py:334: ConvergenceWarning: The max_iter was reached which means the coef_ did not converge\n",
      "  \"the coef_ did not converge\", ConvergenceWarning)\n"
     ]
    },
    {
     "name": "stdout",
     "output_type": "stream",
     "text": [
      "[0.66750565 0.84921412 0.67219662 0.75003226]\n",
      "[0.83022443 0.87927443 0.89713262 0.88717683]\n"
     ]
    }
   ],
   "source": [
    "# 5 fold train test split results\n",
    "results = []\n",
    "for [(X_train_cv, y_train_cv), (X_test_cv, y_test_cv)] in train_test_split:\n",
    "    \n",
    "    clf = LogisticRegression(random_state=0, solver='saga',max_iter = 2000,multi_class='auto')\n",
    "    clf.fit(X_train_cv, y_train_cv.ravel())  \n",
    "    prediction = clf.predict(X_test_cv)\n",
    "    \n",
    "    accuracy = accuracy_score(y_test_cv.ravel(), prediction.ravel())\n",
    "    precision = precision_score(y_test_cv.ravel(), prediction.ravel())\n",
    "    recall = recall_score(y_test_cv.ravel(), prediction.ravel())\n",
    "    f1 = f1_score(y_test_cv.ravel(), prediction.ravel())\n",
    "    \n",
    "    results.append([accuracy, precision, recall, f1])\n",
    "    \n",
    "\n",
    "measures = np.sum(np.array(results), axis=0) / len(results) \n",
    "print(measures)\n",
    "\n",
    "# With standardization\n",
    "\n",
    "results = []\n",
    "for [(X_train_cv, y_train_cv), (X_test_cv, y_test_cv)] in standardized_train_test_split:\n",
    "    \n",
    "    clf = LogisticRegression(random_state=0, solver='saga',max_iter = 2000,multi_class='auto')\n",
    "    clf.fit(X_train_cv, y_train_cv.ravel())  \n",
    "    prediction = clf.predict(X_test_cv)\n",
    "    \n",
    "    accuracy = accuracy_score(y_test_cv.ravel(), prediction.ravel())\n",
    "    precision = precision_score(y_test_cv.ravel(), prediction.ravel())\n",
    "    recall = recall_score(y_test_cv.ravel(), prediction.ravel())\n",
    "    f1 = f1_score(y_test_cv.ravel(), prediction.ravel())\n",
    "    \n",
    "    results.append([accuracy, precision, recall, f1])\n",
    "    \n",
    "\n",
    "measures = np.sum(np.array(results), axis=0) / len(results) \n",
    "print(measures)"
   ]
  },
  {
   "cell_type": "code",
   "execution_count": 40,
   "metadata": {},
   "outputs": [
    {
     "name": "stderr",
     "output_type": "stream",
     "text": [
      "/Library/Frameworks/Python.framework/Versions/3.5/lib/python3.5/site-packages/sklearn/linear_model/sag.py:334: ConvergenceWarning: The max_iter was reached which means the coef_ did not converge\n",
      "  \"the coef_ did not converge\", ConvergenceWarning)\n"
     ]
    }
   ],
   "source": [
    "# fitting the test dataset\n",
    "clf = LogisticRegression(random_state=0, solver='saga',max_iter = 2000,multi_class='auto')\n",
    "X_train_standard,X_test_standard = competition_helpers.standardize_data(X_train,X_test)\n",
    "clf.fit(X_train, y_train.ravel())  \n",
    "prediction = clf.predict(X_test_standard)"
   ]
  },
  {
   "cell_type": "code",
   "execution_count": 41,
   "metadata": {},
   "outputs": [],
   "source": [
    "pd.DataFrame({\"id\": submission_col, \"label\": prediction}).to_csv(submission_file_name, encoding='utf-8', index=False)"
   ]
  },
  {
   "cell_type": "code",
   "execution_count": null,
   "metadata": {},
   "outputs": [],
   "source": []
  }
 ],
 "metadata": {
  "kernelspec": {
   "display_name": "Python 3",
   "language": "python",
   "name": "python3"
  },
  "language_info": {
   "codemirror_mode": {
    "name": "ipython",
    "version": 3
   },
   "file_extension": ".py",
   "mimetype": "text/x-python",
   "name": "python",
   "nbconvert_exporter": "python",
   "pygments_lexer": "ipython3",
   "version": "3.7.3"
  }
 },
 "nbformat": 4,
 "nbformat_minor": 2
}
