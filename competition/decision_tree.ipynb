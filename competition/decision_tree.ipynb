{
 "cells": [
  {
   "cell_type": "code",
   "execution_count": 1,
   "metadata": {},
   "outputs": [],
   "source": [
    "import numpy as np\n",
    "import pandas as pd\n",
    "import competition_helpers\n",
    "from sklearn import tree\n",
    "from sklearn.metrics import accuracy_score, precision_score, recall_score, f1_score"
   ]
  },
  {
   "cell_type": "code",
   "execution_count": 2,
   "metadata": {},
   "outputs": [
    {
     "name": "stdout",
     "output_type": "stream",
     "text": [
      "(418, 100) (418, 1) (378, 100)\n"
     ]
    }
   ],
   "source": [
    "# I/O configuration here\n",
    "X_train = competition_helpers.read_csv(\"train_features.csv\")\n",
    "y_train = competition_helpers.read_csv(\"train_label.csv\", remove_header=True)\n",
    "X_test = competition_helpers.read_csv(\"test_features.csv\")\n",
    "submission_col = np.array(pd.read_csv(\"test_features.csv\", header=None).iloc[: , 0]).ravel()\n",
    "submission_file_name = \"results/decisiontree_default_submission.csv\"\n",
    "\n",
    "print(X_train.shape, y_train.shape, X_test.shape)"
   ]
  },
  {
   "cell_type": "code",
   "execution_count": 3,
   "metadata": {},
   "outputs": [],
   "source": [
    "# 5 fold cross validation\n",
    "train_test_split = competition_helpers.kfold_stratified_split(X_train, y_train, 5, False)\n",
    "# With standardization\n",
    "standardized_train_test_split = competition_helpers.kfold_stratified_split(X_train, y_train, 5, True)"
   ]
  },
  {
   "cell_type": "code",
   "execution_count": 4,
   "metadata": {},
   "outputs": [
    {
     "name": "stdout",
     "output_type": "stream",
     "text": [
      "Max depth: None num_features: None min_samples_split: 2 min_samples_leaf: 1 measures: [0.746314   0.83858283 0.81669227 0.82713389]\n",
      "Max depth: None num_features: 90 min_samples_split: 2 min_samples_leaf: 1 measures: [0.75110526 0.85064589 0.80701485 0.82802816]\n",
      "Max depth: None num_features: None min_samples_split: 2 min_samples_leaf: 10 measures: [0.73429449 0.82529751 0.81643625 0.81933722]\n",
      "Max depth: None num_features: 90 min_samples_split: 2 min_samples_leaf: 10 measures: [0.73435119 0.82728079 0.81326165 0.81815172]\n",
      "Max depth: None num_features: None min_samples_split: 15 min_samples_leaf: 1 measures: [0.7223877  0.83707447 0.778085   0.80581244]\n",
      "Max depth: None num_features: 90 min_samples_split: 15 min_samples_leaf: 1 measures: [0.71992137 0.83649481 0.77485919 0.80407092]\n",
      "Max depth: None num_features: None min_samples_split: 15 min_samples_leaf: 10 measures: [0.73429449 0.82529751 0.81643625 0.81933722]\n",
      "Max depth: None num_features: 90 min_samples_split: 15 min_samples_leaf: 10 measures: [0.73435119 0.82728079 0.81326165 0.81815172]\n",
      "Max depth: 2 num_features: None min_samples_split: 2 min_samples_leaf: 1 measures: [0.76556107 0.83297441 0.85867896 0.8430515 ]\n",
      "Max depth: 2 num_features: 90 min_samples_split: 2 min_samples_leaf: 1 measures: [0.76556107 0.83654797 0.85222734 0.84228248]\n",
      "Max depth: 2 num_features: None min_samples_split: 2 min_samples_leaf: 10 measures: [0.76556107 0.82808009 0.86513057 0.84401924]\n",
      "Max depth: 2 num_features: 90 min_samples_split: 2 min_samples_leaf: 10 measures: [0.76556107 0.83165364 0.85867896 0.84325022]\n",
      "Max depth: 2 num_features: None min_samples_split: 15 min_samples_leaf: 1 measures: [0.76556107 0.83297441 0.85867896 0.8430515 ]\n",
      "Max depth: 2 num_features: 90 min_samples_split: 15 min_samples_leaf: 1 measures: [0.76556107 0.83654797 0.85222734 0.84228248]\n",
      "Max depth: 2 num_features: None min_samples_split: 15 min_samples_leaf: 10 measures: [0.76556107 0.82808009 0.86513057 0.84401924]\n",
      "Max depth: 2 num_features: 90 min_samples_split: 15 min_samples_leaf: 10 measures: [0.76556107 0.83165364 0.85867896 0.84325022]\n",
      "Max depth: 4 num_features: None min_samples_split: 2 min_samples_leaf: 1 measures: [0.72717897 0.82320011 0.80691244 0.81357466]\n",
      "Max depth: 4 num_features: 90 min_samples_split: 2 min_samples_leaf: 1 measures: [0.73917046 0.83005092 0.81658986 0.82215389]\n",
      "Max depth: 4 num_features: None min_samples_split: 2 min_samples_leaf: 10 measures: [0.73670413 0.82604434 0.81966206 0.82115539]\n",
      "Max depth: 4 num_features: 90 min_samples_split: 2 min_samples_leaf: 10 measures: [0.73429449 0.82329447 0.81966206 0.81979164]\n",
      "Max depth: 4 num_features: None min_samples_split: 15 min_samples_leaf: 1 measures: [0.72471263 0.82427001 0.80046083 0.8106881 ]\n",
      "Max depth: 4 num_features: 90 min_samples_split: 15 min_samples_leaf: 1 measures: [0.73917046 0.83059627 0.81658986 0.82284239]\n",
      "Max depth: 4 num_features: None min_samples_split: 15 min_samples_leaf: 10 measures: [0.73670413 0.82604434 0.81966206 0.82115539]\n",
      "Max depth: 4 num_features: 90 min_samples_split: 15 min_samples_leaf: 10 measures: [0.73429449 0.82329447 0.81966206 0.81979164]\n"
     ]
    }
   ],
   "source": [
    "# 5 fold train test split results\n",
    "\n",
    "for max_depth in [None, 2, 4]:\n",
    "    for split_ in [2, 15]:\n",
    "        for leaf_ in [1, 10]:\n",
    "            for num_features in [None, 90]:\n",
    "                results = []\n",
    "                for [(X_train_cv, y_train_cv), (X_test_cv, y_test_cv)] in train_test_split: # standardized_train_test_split\n",
    "\n",
    "                    clf = tree.DecisionTreeClassifier(random_state=42, max_depth=max_depth, \\\n",
    "                                                      max_features=num_features, \\\n",
    "                                                      min_samples_split=split_, min_samples_leaf=leaf_)\n",
    "                    clf.fit(X_train_cv, y_train_cv.ravel())  \n",
    "                    prediction = clf.predict(X_test_cv)\n",
    "\n",
    "                    accuracy = accuracy_score(y_test_cv.ravel(), prediction.ravel())\n",
    "                    precision = precision_score(y_test_cv.ravel(), prediction.ravel())\n",
    "                    recall = recall_score(y_test_cv.ravel(), prediction.ravel())\n",
    "                    f1 = f1_score(y_test_cv.ravel(), prediction.ravel())\n",
    "\n",
    "                    results.append([accuracy, precision, recall, f1])\n",
    "\n",
    "\n",
    "                measures = np.sum(np.array(results), axis=0) / len(results) \n",
    "                print(\"Max depth: {} num_features: {} min_samples_split: {} min_samples_leaf: {} measures: {}\".format(max_depth, num_features, split_, leaf_, measures))\n"
   ]
  },
  {
   "cell_type": "markdown",
   "metadata": {},
   "source": [
    "## Without standardization:\n",
    "\n",
    "### gini, max_depth, min_samples_split:\n",
    "\n",
    "\n",
    "Max depth: None num_features: None min_samples_split: 2 min_samples_leaf: 1 measures: [0.746314   0.83858283 0.81669227 0.82713389]\n",
    "\n",
    "Max depth: None num_features: 90 min_samples_split: 2 min_samples_leaf: 1 measures: [0.75110526 0.85064589 0.80701485 0.82802816]\n",
    "\n",
    "Max depth: None num_features: None min_samples_split: 2 min_samples_leaf: 10 measures: [0.73429449 0.82529751 0.81643625 0.81933722]\n",
    "\n",
    "Max depth: None num_features: 90 min_samples_split: 2 min_samples_leaf: 10 measures: [0.73435119 0.82728079 0.81326165 0.81815172]\n",
    "\n",
    "Max depth: None num_features: None min_samples_split: 15 min_samples_leaf: 1 measures: [0.7223877  0.83707447 0.778085   0.80581244]\n",
    "\n",
    "Max depth: None num_features: 90 min_samples_split: 15 min_samples_leaf: 1 measures: [0.71992137 0.83649481 0.77485919 0.80407092]\n",
    "\n",
    "Max depth: None num_features: None min_samples_split: 15 min_samples_leaf: 10 measures: [0.73429449 0.82529751 0.81643625 0.81933722]\n",
    "\n",
    "Max depth: None num_features: 90 min_samples_split: 15 min_samples_leaf: 10 measures: [0.73435119 0.82728079 0.81326165 0.81815172]\n",
    "\n",
    "Max depth: 2 num_features: None min_samples_split: 2 min_samples_leaf: 1 measures: [0.76556107 0.83297441 0.85867896 0.8430515 ]\n",
    "\n",
    "Max depth: 2 num_features: 90 min_samples_split: 2 min_samples_leaf: 1 measures: [0.76556107 0.83654797 0.85222734 0.84228248]\n",
    "\n",
    "Max depth: 2 num_features: None min_samples_split: 2 min_samples_leaf: 10 measures: [0.76556107 0.82808009 0.86513057 0.84401924]\n",
    "\n",
    "Max depth: 2 num_features: 90 min_samples_split: 2 min_samples_leaf: 10 measures: [0.76556107 0.83165364 0.85867896 0.84325022]\n",
    "\n",
    "Max depth: 2 num_features: None min_samples_split: 15 min_samples_leaf: 1 measures: [0.76556107 0.83297441 0.85867896 0.8430515 ]\n",
    "\n",
    "Max depth: 2 num_features: 90 min_samples_split: 15 min_samples_leaf: 1 measures: [0.76556107 0.83654797 0.85222734 0.84228248]\n",
    "\n",
    "Max depth: 2 num_features: None min_samples_split: 15 min_samples_leaf: 10 measures: [0.76556107 0.82808009 0.86513057 0.84401924]\n",
    "\n",
    "Max depth: 2 num_features: 90 min_samples_split: 15 min_samples_leaf: 10 measures: [0.76556107 0.83165364 0.85867896 0.84325022]\n",
    "\n",
    "Max depth: 4 num_features: None min_samples_split: 2 min_samples_leaf: 1 measures: [0.72717897 0.82320011 0.80691244 0.81357466]\n",
    "\n",
    "Max depth: 4 num_features: 90 min_samples_split: 2 min_samples_leaf: 1 measures: [0.73917046 0.83005092 0.81658986 0.82215389]\n",
    "\n",
    "Max depth: 4 num_features: None min_samples_split: 2 min_samples_leaf: 10 measures: [0.73670413 0.82604434 0.81966206 0.82115539]\n",
    "\n",
    "Max depth: 4 num_features: 90 min_samples_split: 2 min_samples_leaf: 10 measures: [0.73429449 0.82329447 0.81966206 0.81979164]\n",
    "\n",
    "Max depth: 4 num_features: None min_samples_split: 15 min_samples_leaf: 1 measures: [0.72471263 0.82427001 0.80046083 0.8106881 ]\n",
    "\n",
    "Max depth: 4 num_features: 90 min_samples_split: 15 min_samples_leaf: 1 measures: [0.73917046 0.83059627 0.81658986 0.82284239]\n",
    "\n",
    "Max depth: 4 num_features: None min_samples_split: 15 min_samples_leaf: 10 measures: [0.73670413 0.82604434 0.81966206 0.82115539]\n",
    "\n",
    "Max depth: 4 num_features: 90 min_samples_split: 15 min_samples_leaf: 10 measures: [0.73429449 0.82329447 0.81966206 0.81979164]\n",
    "\n",
    "## With standardization\n",
    "\n"
   ]
  },
  {
   "cell_type": "code",
   "execution_count": 5,
   "metadata": {},
   "outputs": [],
   "source": [
    "# fitting the test dataset\n",
    "# clf = tree.DecisionTreeClassifier()\n",
    "# clf.fit(X_train, y_train.ravel())  \n",
    "# prediction = clf.predict(X_test)"
   ]
  },
  {
   "cell_type": "code",
   "execution_count": 6,
   "metadata": {},
   "outputs": [],
   "source": [
    "# pd.DataFrame({\"id\": submission_col, \"label\": prediction}).to_csv(submission_file_name, encoding='utf-8', index=False)"
   ]
  },
  {
   "cell_type": "code",
   "execution_count": null,
   "metadata": {},
   "outputs": [],
   "source": []
  }
 ],
 "metadata": {
  "kernelspec": {
   "display_name": "Python 3",
   "language": "python",
   "name": "python3"
  },
  "language_info": {
   "codemirror_mode": {
    "name": "ipython",
    "version": 3
   },
   "file_extension": ".py",
   "mimetype": "text/x-python",
   "name": "python",
   "nbconvert_exporter": "python",
   "pygments_lexer": "ipython3",
   "version": "3.5.4"
  }
 },
 "nbformat": 4,
 "nbformat_minor": 2
}
